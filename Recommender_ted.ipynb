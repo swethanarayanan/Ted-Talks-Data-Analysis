{
 "cells": [
  {
   "cell_type": "code",
   "execution_count": 15,
   "metadata": {
    "ExecuteTime": {
     "end_time": "2017-11-15T22:40:24.004324Z",
     "start_time": "2017-11-15T22:40:23.995649Z"
    },
    "collapsed": true
   },
   "outputs": [],
   "source": [
    "import pickle\n",
    "import pandas as pd\n",
    "import numpy as np\n",
    "\n",
    "from sklearn.feature_extraction.text import CountVectorizer, TfidfVectorizer\n",
    "from sklearn.neighbors import NearestNeighbors\n",
    "\n",
    "path = '/Users/swetha/Google Drive/MSBA/BT5152DMT/Assignment4/'"
   ]
  },
  {
   "cell_type": "code",
   "execution_count": 16,
   "metadata": {
    "ExecuteTime": {
     "end_time": "2017-11-15T22:45:48.036015Z",
     "start_time": "2017-11-15T22:45:47.300854Z"
    }
   },
   "outputs": [],
   "source": [
    "with open(path + 'ted_all.pkl', 'rb') as picklefile:\n",
    "    ted_all = pickle.load(picklefile)\n",
    "\n",
    "with open(path + 'cleaned_talks.pkl', 'rb') as picklefile:\n",
    "    cleaned_talks = pickle.load(picklefile)\n",
    "\n",
    "with open(path + 'topic_names.pkl', 'rb') as picklefile:\n",
    "    topic_names = pickle.load(picklefile)\n",
    "\n",
    "with open(path + 'lda_mod.pkl', 'rb') as picklefile:\n",
    "    lda_mod = pickle.load(picklefile)\n",
    "\n",
    "with open(path + 'vect_mod.pkl', 'rb') as picklefile:\n",
    "    vect_mod = pickle.load(picklefile)\n",
    "\n",
    "with open(path + 'lda_data.pkl', 'rb') as picklefile:\n",
    "    lda_data = pickle.load(picklefile)\n"
   ]
  },
  {
   "cell_type": "markdown",
   "metadata": {
    "ExecuteTime": {
     "end_time": "2017-11-05T20:54:48.896291Z",
     "start_time": "2017-11-05T20:54:48.892904Z"
    }
   },
   "source": [
    "# recommender \n",
    "enter any single talk (by ID) and get 5 recommendations. \n",
    "print the ID, distance from target talk, topic name, url,and the tags that ted assigned to the talk, to see how good we are?  "
   ]
  },
  {
   "cell_type": "code",
   "execution_count": 17,
   "metadata": {
    "ExecuteTime": {
     "end_time": "2017-11-15T22:56:39.216577Z",
     "start_time": "2017-11-15T22:56:39.167549Z"
    },
    "collapsed": true
   },
   "outputs": [],
   "source": [
    "def get_recommendations(first_article,num_of_recs,topics,ted_data, model, vectorizer, training_vectors):\n",
    "    \n",
    "    new_vec = model.transform(\n",
    "        vectorizer.transform([first_article]))\n",
    "    \n",
    "    nn = NearestNeighbors(n_neighbors=num_of_recs, metric='cosine', algorithm='brute')\n",
    "    nn.fit(training_vectors)\n",
    "    \n",
    "    results = nn.kneighbors(new_vec)\n",
    "    \n",
    "    recommend_list = results[1][0]\n",
    "    scores = results[0]\n",
    "                       \n",
    "    ss = np.array(scores).flat\n",
    "    for i, resp in enumerate(recommend_list):\n",
    "        print('\\n--- ID ---\\n', + resp)\n",
    "        print('--- distance ---\\n', + ss[i])  \n",
    "        print('--- topic ---')\n",
    "        print(topics.iloc[resp,0])\n",
    "        print(ted_data.iloc[resp,1])\n",
    "        print('--- teds tags ---')\n",
    "        print(ted_data.iloc[resp,-3])\n",
    "        \n",
    "    return recommend_list, ss   "
   ]
  },
  {
   "cell_type": "code",
   "execution_count": 18,
   "metadata": {
    "ExecuteTime": {
     "end_time": "2017-11-15T22:56:40.462358Z",
     "start_time": "2017-11-15T22:56:40.127884Z"
    }
   },
   "outputs": [
    {
     "ename": "ValueError",
     "evalue": "Expected 2D array, got 1D array instead:\narray=['two group woman come screening mammography \\x89 ûó woman mammography work well saved thousand life woman work well know group alone breast become political organ truth become lost rhetoric coming press politician radiologist medical imaging company best morning tell think truth first disclosure breast cancer survivor radiologist patent never received money medical imaging company seeking vote doctor internal medicine became passionately interested topic 10 year ago patient asked question came see discovering breast lump sister diagnosed breast cancer 40 pregnant time heart ached imagining afraid must fortunately lump proved benign asked question confident would find tumor early mammogram developed one studied mammogram reviewed radiology literature shocked discover case chance finding tumor early mammogram le toss coin may recall year ago firestorm erupted united states preventive services task force reviewed world mammography screening literature issued guideline recommending screening mammogram woman 40 everybody rushed criticize task force even though anyway familiar mammography study took senate 17 day ban use guideline determining insurance coverage radiologists outraged guideline pre - eminent mammographer united states issued following quote washington post radiologist turn criticized protecting financial self - interest view radiologist hero shortage radiologist qualified read mammogram mammogram one complex radiology study interpret radiologist sued often missed breast cancer cause fact telling much legal smoke likely fire factor responsible fire breast density breast density refers relative amount fat \\x89 ûó pictured yellow \\x89 ûó versus connective epithelial tissue \\x89 ûó pictured pink proportion primarily genetically determined two - third woman 40 dense breast tissue mammography work well although breast density generally decline age third woman retain dense breast tissue year menopause know breast dense well need read detail mammography report radiologists classify breast density four category based appearance tissue mammogram breast le 25 percent dense called fatty - replaced next category scattered fibroglandular density followed heterogeneously dense extremely dense breast fall two category considered dense problem breast density truly wolf sheep clothing tumor dense breast tissue appear white mammogram x - ray often distinguish two easy see tumor upper part fatty breast imagine difficult would find tumor dense breast mammogram find 80 percent tumor fatty breast 40 percent extremely dense breast bad enough breast density make hard find cancer turn also powerful predictor risk breast cancer stronger risk factor mother sister breast cancer time patient posed question breast density obscure topic radiology literature woman mammogram physician ordering knew else could offer mammograms around since 1960 changed little surprisingly innovation digital mammography approved 2000 digital mammography still x - ray breast image stored manipulated digitally digital camera u invested four billion dollar converting digital mammography equipment gained investment study funded 25 million taxpayer dollar digital mammography found better traditional mammography fact worse older woman better one group woman 50 pre - menopausal dense breast woman digital mammography found twice many cancer still found 60 percent digital mammography giant leap forward manufacturer digital mammography equipment small step forward womankind ultrasound ultrasound generates biopsy unnecessary relative technology widely used mri exquisitely sensitive finding tumor also expensive think disruptive technology see almost ubiquitous pattern technology getting smaller le expensive think ipods compared stereo exact opposite health care machine get ever bigger ever expensive screening average young woman mri kind driving grocery store hummer way much equipment one mri scan cost 10 time digital mammogram cost sooner later going accept fact health care innovation always come much higher price malcolm gladwell wrote article new yorker innovation made case scientific discovery rarely product one individual genius rather big idea orchestrated simply gather people different perspective room get talk thing ordinarily talk essence ted quote one innovator say time physician physicist get together physicist get sick make sense physician kind problem realize solution physicist kind solution thing realize problem take look cartoon accompanied gladwell article tell see something disturbing depiction innovative thinker allow little creative license tell story serendipitous collision patient problem physicist solution shortly visit introduced nuclear physicist mayo named michael conner specialist cardiac imaging something nothing happened tell conference returned israel talking new type gamma detector gamma imaging around long time image heart even tried image breast problem gamma detector huge bulky tube filled scintillating crystal get close enough around breast find small tumor potential advantage gamma ray unlike x - ray influenced breast density technology could find tumor small finding small tumor critical survival find tumor le centimeter survival exceeds 90 percent drop rapidly tumor size increase michael told new type gamma detector seen made bulky tube thin layer semiconductor material serf gamma detector started talking problem breast density realized might able get detector close enough around breast actually find small tumor putting together grid cube tape \\x89 ûó \\x89 ûó michael hacked x - ray plate mammography machine thrown attached new detector decided call machine molecular breast imaging mbi image first patient see using old gamma technology looked noise using new detector could begin see outline tumor nuclear physicist internist soon joined carrie hruska biomedical engineer two radiologist trying take entrenched world mammography machine held together duct tape say faced high dos skepticism early year huge understatement convinced might able make work chipped away incremental modification system current detector see look lot different duct tape gone added second detector top breast improved tumor detection work patient receives injection radio tracer taken rapidly proliferating tumor cell normal cell key difference mammography mammography relies difference appearance tumor background tissue seen difference obscured dense breast mbi exploit different molecular behavior tumor therefore impervious breast density injection patient breast placed detector ever mammogram \\x89 ûó old enough mammogram \\x89 ûó know come next pain may surprised know mammography radiologic study regulated federal law law requires equivalent 40 - pound car battery come breast study mbi use light pain - free compression detector transmits image computer example see right mammogram showing faint tumor edge blurred dense tissue mbi image show tumor much clearly well second tumor profoundly influence patient surgical option example although mammogram found one tumor able demonstrate three discrete tumor \\x89 ûó one small three millimeter big break came 2004 demonstrated could find small tumor used image submit grant susan g komen foundation elated took chance team completely unknown investigator funded u study 1 000 woman dense breast comparing screening mammogram mbi tumor found mammography found 25 percent tumor mbi found 83 percent example screening study digital mammogram read normal show lot dense tissue mbi show area intense uptake correlated two - centimeter tumor case one - centimeter tumor case 45 - year - old medical secretary mayo lost mother breast cancer young wanted enroll study mammogram showed area dense tissue mbi showed area worrisome uptake also see color image corresponded tumor size golf ball fortunately removed spread lymph node knew technology could find three time tumor dense breast solve one important problem figure lower radiation dose spent last three year making modification every aspect imaging system allow happy report using dose radiation equivalent effective dose one digital mammogram low dose continuing screening study image three week ago 67 - year - old woman show normal digital mammogram mbi image showing uptake proved large cancer young woman benefiting also older woman dense tissue routinely using one - fifth radiation dose used type gamma technology mbi generates four image per breast mri generates thousand take radiologist year specialty training become expert differentiating normal anatomic detail worrisome finding suspect even non - radiologist room find tumor mbi image mbi potentially disruptive \\x89 ûó accurate mri far le complex interpret fraction cost understand may force breast - imaging world prefer status quo achieving felt remarkable result manuscript rejected four journal fourth rejection requested reconsideration manuscript strongly suspected one reviewer rejected financial conflict interest competing technology manuscript accepted published later month journal radiology still need complete screening study using low dose finding need replicated institution could take five year technology widely adopted benefit financially way important allows continue tell truth recognize \\x89 ûó recognize adoption technology depend much economic political force soundness science mbi unit fda approved yet widely available something available woman dense breast thing know protect first know density ninety percent woman 95 percent woman know increase breast cancer risk state connecticut became first state mandate woman receive notification breast density mammogram conference 60 000 people breast - imaging last week chicago stunned heated debate whether telling woman breast density course know please ask doctor read detail mammography report second pre - menopausal try schedule mammogram first two week menstrual cycle breast density relatively lower third notice persistent change breast insist additional imaging fourth important mammography debate rage believe woman 40 older annual mammogram mammography perfect test proven reduce mortality breast cancer mortality banner sword mammography ardent advocate use deter innovation woman develop breast cancer die many year later woman thankfully survive take 10 year screening method demonstrate reduction mortality breast cancer mammography one around long enough chance making claim time u accept extraordinary success mammography limitation need individualize screening based density woman without dense breast mammography best choice woman dense breast abandon screening altogether need offer something better baby carrying patient first asked question middle school answer slow come given blessing share story undergoing biopsy increased risk cancer losing sister cancer made difficult decision prophylactic mastectomy must better time granddaughter daughter time'].\nReshape your data either using array.reshape(-1, 1) if your data has a single feature or array.reshape(1, -1) if it contains a single sample.",
     "output_type": "error",
     "traceback": [
      "\u001b[0;31m---------------------------------------------------------------------------\u001b[0m",
      "\u001b[0;31mValueError\u001b[0m                                Traceback (most recent call last)",
      "\u001b[0;32m<ipython-input-18-c1456a4a1b4e>\u001b[0m in \u001b[0;36m<module>\u001b[0;34m()\u001b[0m\n\u001b[1;32m      1\u001b[0m rec_list, scores = get_recommendations(cleaned_talks[804],10, topic_names, ted_all,\n\u001b[0;32m----> 2\u001b[0;31m                                        lda_mod, vect_mod, lda_data)\n\u001b[0m",
      "\u001b[0;32m<ipython-input-17-b15a6cfdb71d>\u001b[0m in \u001b[0;36mget_recommendations\u001b[0;34m(first_article, num_of_recs, topics, ted_data, model, vectorizer, training_vectors)\u001b[0m\n\u001b[1;32m      2\u001b[0m \u001b[0;34m\u001b[0m\u001b[0m\n\u001b[1;32m      3\u001b[0m     new_vec = model.transform(\n\u001b[0;32m----> 4\u001b[0;31m         vectorizer.transform([first_article]))\n\u001b[0m\u001b[1;32m      5\u001b[0m \u001b[0;34m\u001b[0m\u001b[0m\n\u001b[1;32m      6\u001b[0m     \u001b[0mnn\u001b[0m \u001b[0;34m=\u001b[0m \u001b[0mNearestNeighbors\u001b[0m\u001b[0;34m(\u001b[0m\u001b[0mn_neighbors\u001b[0m\u001b[0;34m=\u001b[0m\u001b[0mnum_of_recs\u001b[0m\u001b[0;34m,\u001b[0m \u001b[0mmetric\u001b[0m\u001b[0;34m=\u001b[0m\u001b[0;34m'cosine'\u001b[0m\u001b[0;34m,\u001b[0m \u001b[0malgorithm\u001b[0m\u001b[0;34m=\u001b[0m\u001b[0;34m'brute'\u001b[0m\u001b[0;34m)\u001b[0m\u001b[0;34m\u001b[0m\u001b[0m\n",
      "\u001b[0;32m~/anaconda3/lib/python3.6/site-packages/sklearn/decomposition/online_lda.py\u001b[0m in \u001b[0;36mtransform\u001b[0;34m(self, X)\u001b[0m\n\u001b[1;32m    631\u001b[0m             \u001b[0mDocument\u001b[0m \u001b[0mtopic\u001b[0m \u001b[0mdistribution\u001b[0m \u001b[0;32mfor\u001b[0m \u001b[0mX\u001b[0m\u001b[0;34m.\u001b[0m\u001b[0;34m\u001b[0m\u001b[0m\n\u001b[1;32m    632\u001b[0m         \"\"\"\n\u001b[0;32m--> 633\u001b[0;31m         \u001b[0mdoc_topic_distr\u001b[0m \u001b[0;34m=\u001b[0m \u001b[0mself\u001b[0m\u001b[0;34m.\u001b[0m\u001b[0m_unnormalized_transform\u001b[0m\u001b[0;34m(\u001b[0m\u001b[0mX\u001b[0m\u001b[0;34m)\u001b[0m\u001b[0;34m\u001b[0m\u001b[0m\n\u001b[0m\u001b[1;32m    634\u001b[0m         \u001b[0mdoc_topic_distr\u001b[0m \u001b[0;34m/=\u001b[0m \u001b[0mdoc_topic_distr\u001b[0m\u001b[0;34m.\u001b[0m\u001b[0msum\u001b[0m\u001b[0;34m(\u001b[0m\u001b[0maxis\u001b[0m\u001b[0;34m=\u001b[0m\u001b[0;36m1\u001b[0m\u001b[0;34m)\u001b[0m\u001b[0;34m[\u001b[0m\u001b[0;34m:\u001b[0m\u001b[0;34m,\u001b[0m \u001b[0mnp\u001b[0m\u001b[0;34m.\u001b[0m\u001b[0mnewaxis\u001b[0m\u001b[0;34m]\u001b[0m\u001b[0;34m\u001b[0m\u001b[0m\n\u001b[1;32m    635\u001b[0m         \u001b[0;32mreturn\u001b[0m \u001b[0mdoc_topic_distr\u001b[0m\u001b[0;34m\u001b[0m\u001b[0m\n",
      "\u001b[0;32m~/anaconda3/lib/python3.6/site-packages/sklearn/decomposition/online_lda.py\u001b[0m in \u001b[0;36m_unnormalized_transform\u001b[0;34m(self, X)\u001b[0m\n\u001b[1;32m    602\u001b[0m \u001b[0;34m\u001b[0m\u001b[0m\n\u001b[1;32m    603\u001b[0m         \u001b[0;31m# make sure feature size is the same in fitted model and in X\u001b[0m\u001b[0;34m\u001b[0m\u001b[0;34m\u001b[0m\u001b[0m\n\u001b[0;32m--> 604\u001b[0;31m         \u001b[0mX\u001b[0m \u001b[0;34m=\u001b[0m \u001b[0mself\u001b[0m\u001b[0;34m.\u001b[0m\u001b[0m_check_non_neg_array\u001b[0m\u001b[0;34m(\u001b[0m\u001b[0mX\u001b[0m\u001b[0;34m,\u001b[0m \u001b[0;34m\"LatentDirichletAllocation.transform\"\u001b[0m\u001b[0;34m)\u001b[0m\u001b[0;34m\u001b[0m\u001b[0m\n\u001b[0m\u001b[1;32m    605\u001b[0m         \u001b[0mn_samples\u001b[0m\u001b[0;34m,\u001b[0m \u001b[0mn_features\u001b[0m \u001b[0;34m=\u001b[0m \u001b[0mX\u001b[0m\u001b[0;34m.\u001b[0m\u001b[0mshape\u001b[0m\u001b[0;34m\u001b[0m\u001b[0m\n\u001b[1;32m    606\u001b[0m         \u001b[0;32mif\u001b[0m \u001b[0mn_features\u001b[0m \u001b[0;34m!=\u001b[0m \u001b[0mself\u001b[0m\u001b[0;34m.\u001b[0m\u001b[0mcomponents_\u001b[0m\u001b[0;34m.\u001b[0m\u001b[0mshape\u001b[0m\u001b[0;34m[\u001b[0m\u001b[0;36m1\u001b[0m\u001b[0;34m]\u001b[0m\u001b[0;34m:\u001b[0m\u001b[0;34m\u001b[0m\u001b[0m\n",
      "\u001b[0;32m~/anaconda3/lib/python3.6/site-packages/sklearn/decomposition/online_lda.py\u001b[0m in \u001b[0;36m_check_non_neg_array\u001b[0;34m(self, X, whom)\u001b[0m\n\u001b[1;32m    462\u001b[0m \u001b[0;34m\u001b[0m\u001b[0m\n\u001b[1;32m    463\u001b[0m         \"\"\"\n\u001b[0;32m--> 464\u001b[0;31m         \u001b[0mX\u001b[0m \u001b[0;34m=\u001b[0m \u001b[0mcheck_array\u001b[0m\u001b[0;34m(\u001b[0m\u001b[0mX\u001b[0m\u001b[0;34m,\u001b[0m \u001b[0maccept_sparse\u001b[0m\u001b[0;34m=\u001b[0m\u001b[0;34m'csr'\u001b[0m\u001b[0;34m)\u001b[0m\u001b[0;34m\u001b[0m\u001b[0m\n\u001b[0m\u001b[1;32m    465\u001b[0m         \u001b[0mcheck_non_negative\u001b[0m\u001b[0;34m(\u001b[0m\u001b[0mX\u001b[0m\u001b[0;34m,\u001b[0m \u001b[0mwhom\u001b[0m\u001b[0;34m)\u001b[0m\u001b[0;34m\u001b[0m\u001b[0m\n\u001b[1;32m    466\u001b[0m         \u001b[0;32mreturn\u001b[0m \u001b[0mX\u001b[0m\u001b[0;34m\u001b[0m\u001b[0m\n",
      "\u001b[0;32m~/anaconda3/lib/python3.6/site-packages/sklearn/utils/validation.py\u001b[0m in \u001b[0;36mcheck_array\u001b[0;34m(array, accept_sparse, dtype, order, copy, force_all_finite, ensure_2d, allow_nd, ensure_min_samples, ensure_min_features, warn_on_dtype, estimator)\u001b[0m\n\u001b[1;32m    439\u001b[0m                     \u001b[0;34m\"Reshape your data either using array.reshape(-1, 1) if \"\u001b[0m\u001b[0;34m\u001b[0m\u001b[0m\n\u001b[1;32m    440\u001b[0m                     \u001b[0;34m\"your data has a single feature or array.reshape(1, -1) \"\u001b[0m\u001b[0;34m\u001b[0m\u001b[0m\n\u001b[0;32m--> 441\u001b[0;31m                     \"if it contains a single sample.\".format(array))\n\u001b[0m\u001b[1;32m    442\u001b[0m             \u001b[0marray\u001b[0m \u001b[0;34m=\u001b[0m \u001b[0mnp\u001b[0m\u001b[0;34m.\u001b[0m\u001b[0matleast_2d\u001b[0m\u001b[0;34m(\u001b[0m\u001b[0marray\u001b[0m\u001b[0;34m)\u001b[0m\u001b[0;34m\u001b[0m\u001b[0m\n\u001b[1;32m    443\u001b[0m             \u001b[0;31m# To ensure that array flags are maintained\u001b[0m\u001b[0;34m\u001b[0m\u001b[0;34m\u001b[0m\u001b[0m\n",
      "\u001b[0;31mValueError\u001b[0m: Expected 2D array, got 1D array instead:\narray=['two group woman come screening mammography \\x89 ûó woman mammography work well saved thousand life woman work well know group alone breast become political organ truth become lost rhetoric coming press politician radiologist medical imaging company best morning tell think truth first disclosure breast cancer survivor radiologist patent never received money medical imaging company seeking vote doctor internal medicine became passionately interested topic 10 year ago patient asked question came see discovering breast lump sister diagnosed breast cancer 40 pregnant time heart ached imagining afraid must fortunately lump proved benign asked question confident would find tumor early mammogram developed one studied mammogram reviewed radiology literature shocked discover case chance finding tumor early mammogram le toss coin may recall year ago firestorm erupted united states preventive services task force reviewed world mammography screening literature issued guideline recommending screening mammogram woman 40 everybody rushed criticize task force even though anyway familiar mammography study took senate 17 day ban use guideline determining insurance coverage radiologists outraged guideline pre - eminent mammographer united states issued following quote washington post radiologist turn criticized protecting financial self - interest view radiologist hero shortage radiologist qualified read mammogram mammogram one complex radiology study interpret radiologist sued often missed breast cancer cause fact telling much legal smoke likely fire factor responsible fire breast density breast density refers relative amount fat \\x89 ûó pictured yellow \\x89 ûó versus connective epithelial tissue \\x89 ûó pictured pink proportion primarily genetically determined two - third woman 40 dense breast tissue mammography work well although breast density generally decline age third woman retain dense breast tissue year menopause know breast dense well need read detail mammography report radiologists classify breast density four category based appearance tissue mammogram breast le 25 percent dense called fatty - replaced next category scattered fibroglandular density followed heterogeneously dense extremely dense breast fall two category considered dense problem breast density truly wolf sheep clothing tumor dense breast tissue appear white mammogram x - ray often distinguish two easy see tumor upper part fatty breast imagine difficult would find tumor dense breast mammogram find 80 percent tumor fatty breast 40 percent extremely dense breast bad enough breast density make hard find cancer turn also powerful predictor risk breast cancer stronger risk factor mother sister breast cancer time patient posed question breast density obscure topic radiology literature woman mammogram physician ordering knew else could offer mammograms around since 1960 changed little surprisingly innovation digital mammography approved 2000 digital mammography still x - ray breast image stored manipulated digitally digital camera u invested four billion dollar converting digital mammography equipment gained investment study funded 25 million taxpayer dollar digital mammography found better traditional mammography fact worse older woman better one group woman 50 pre - menopausal dense breast woman digital mammography found twice many cancer still found 60 percent digital mammography giant leap forward manufacturer digital mammography equipment small step forward womankind ultrasound ultrasound generates biopsy unnecessary relative technology widely used mri exquisitely sensitive finding tumor also expensive think disruptive technology see almost ubiquitous pattern technology getting smaller le expensive think ipods compared stereo exact opposite health care machine get ever bigger ever expensive screening average young woman mri kind driving grocery store hummer way much equipment one mri scan cost 10 time digital mammogram cost sooner later going accept fact health care innovation always come much higher price malcolm gladwell wrote article new yorker innovation made case scientific discovery rarely product one individual genius rather big idea orchestrated simply gather people different perspective room get talk thing ordinarily talk essence ted quote one innovator say time physician physicist get together physicist get sick make sense physician kind problem realize solution physicist kind solution thing realize problem take look cartoon accompanied gladwell article tell see something disturbing depiction innovative thinker allow little creative license tell story serendipitous collision patient problem physicist solution shortly visit introduced nuclear physicist mayo named michael conner specialist cardiac imaging something nothing happened tell conference returned israel talking new type gamma detector gamma imaging around long time image heart even tried image breast problem gamma detector huge bulky tube filled scintillating crystal get close enough around breast find small tumor potential advantage gamma ray unlike x - ray influenced breast density technology could find tumor small finding small tumor critical survival find tumor le centimeter survival exceeds 90 percent drop rapidly tumor size increase michael told new type gamma detector seen made bulky tube thin layer semiconductor material serf gamma detector started talking problem breast density realized might able get detector close enough around breast actually find small tumor putting together grid cube tape \\x89 ûó \\x89 ûó michael hacked x - ray plate mammography machine thrown attached new detector decided call machine molecular breast imaging mbi image first patient see using old gamma technology looked noise using new detector could begin see outline tumor nuclear physicist internist soon joined carrie hruska biomedical engineer two radiologist trying take entrenched world mammography machine held together duct tape say faced high dos skepticism early year huge understatement convinced might able make work chipped away incremental modification system current detector see look lot different duct tape gone added second detector top breast improved tumor detection work patient receives injection radio tracer taken rapidly proliferating tumor cell normal cell key difference mammography mammography relies difference appearance tumor background tissue seen difference obscured dense breast mbi exploit different molecular behavior tumor therefore impervious breast density injection patient breast placed detector ever mammogram \\x89 ûó old enough mammogram \\x89 ûó know come next pain may surprised know mammography radiologic study regulated federal law law requires equivalent 40 - pound car battery come breast study mbi use light pain - free compression detector transmits image computer example see right mammogram showing faint tumor edge blurred dense tissue mbi image show tumor much clearly well second tumor profoundly influence patient surgical option example although mammogram found one tumor able demonstrate three discrete tumor \\x89 ûó one small three millimeter big break came 2004 demonstrated could find small tumor used image submit grant susan g komen foundation elated took chance team completely unknown investigator funded u study 1 000 woman dense breast comparing screening mammogram mbi tumor found mammography found 25 percent tumor mbi found 83 percent example screening study digital mammogram read normal show lot dense tissue mbi show area intense uptake correlated two - centimeter tumor case one - centimeter tumor case 45 - year - old medical secretary mayo lost mother breast cancer young wanted enroll study mammogram showed area dense tissue mbi showed area worrisome uptake also see color image corresponded tumor size golf ball fortunately removed spread lymph node knew technology could find three time tumor dense breast solve one important problem figure lower radiation dose spent last three year making modification every aspect imaging system allow happy report using dose radiation equivalent effective dose one digital mammogram low dose continuing screening study image three week ago 67 - year - old woman show normal digital mammogram mbi image showing uptake proved large cancer young woman benefiting also older woman dense tissue routinely using one - fifth radiation dose used type gamma technology mbi generates four image per breast mri generates thousand take radiologist year specialty training become expert differentiating normal anatomic detail worrisome finding suspect even non - radiologist room find tumor mbi image mbi potentially disruptive \\x89 ûó accurate mri far le complex interpret fraction cost understand may force breast - imaging world prefer status quo achieving felt remarkable result manuscript rejected four journal fourth rejection requested reconsideration manuscript strongly suspected one reviewer rejected financial conflict interest competing technology manuscript accepted published later month journal radiology still need complete screening study using low dose finding need replicated institution could take five year technology widely adopted benefit financially way important allows continue tell truth recognize \\x89 ûó recognize adoption technology depend much economic political force soundness science mbi unit fda approved yet widely available something available woman dense breast thing know protect first know density ninety percent woman 95 percent woman know increase breast cancer risk state connecticut became first state mandate woman receive notification breast density mammogram conference 60 000 people breast - imaging last week chicago stunned heated debate whether telling woman breast density course know please ask doctor read detail mammography report second pre - menopausal try schedule mammogram first two week menstrual cycle breast density relatively lower third notice persistent change breast insist additional imaging fourth important mammography debate rage believe woman 40 older annual mammogram mammography perfect test proven reduce mortality breast cancer mortality banner sword mammography ardent advocate use deter innovation woman develop breast cancer die many year later woman thankfully survive take 10 year screening method demonstrate reduction mortality breast cancer mammography one around long enough chance making claim time u accept extraordinary success mammography limitation need individualize screening based density woman without dense breast mammography best choice woman dense breast abandon screening altogether need offer something better baby carrying patient first asked question middle school answer slow come given blessing share story undergoing biopsy increased risk cancer losing sister cancer made difficult decision prophylactic mastectomy must better time granddaughter daughter time'].\nReshape your data either using array.reshape(-1, 1) if your data has a single feature or array.reshape(1, -1) if it contains a single sample."
     ]
    }
   ],
   "source": [
    "rec_list, scores = get_recommendations(cleaned_talks[804],10, topic_names, ted_all,\n",
    "                                       lda_mod, vect_mod, lda_data)"
   ]
  },
  {
   "cell_type": "code",
   "execution_count": null,
   "metadata": {
    "collapsed": true
   },
   "outputs": [],
   "source": []
  },
  {
   "cell_type": "code",
   "execution_count": null,
   "metadata": {
    "collapsed": true
   },
   "outputs": [],
   "source": []
  }
 ],
 "metadata": {
  "kernelspec": {
   "display_name": "Python 3",
   "language": "python",
   "name": "python3"
  },
  "language_info": {
   "codemirror_mode": {
    "name": "ipython",
    "version": 3
   },
   "file_extension": ".py",
   "mimetype": "text/x-python",
   "name": "python",
   "nbconvert_exporter": "python",
   "pygments_lexer": "ipython3",
   "version": "3.6.3"
  },
  "varInspector": {
   "cols": {
    "lenName": 16,
    "lenType": 16,
    "lenVar": 40
   },
   "kernels_config": {
    "python": {
     "delete_cmd_postfix": "",
     "delete_cmd_prefix": "del ",
     "library": "var_list.py",
     "varRefreshCmd": "print(var_dic_list())"
    },
    "r": {
     "delete_cmd_postfix": ") ",
     "delete_cmd_prefix": "rm(",
     "library": "var_list.r",
     "varRefreshCmd": "cat(var_dic_list()) "
    }
   },
   "types_to_exclude": [
    "module",
    "function",
    "builtin_function_or_method",
    "instance",
    "_Feature"
   ],
   "window_display": false
  }
 },
 "nbformat": 4,
 "nbformat_minor": 2
}
